{
 "cells": [
  {
   "cell_type": "code",
   "execution_count": 1,
   "metadata": {},
   "outputs": [
    {
     "name": "stderr",
     "output_type": "stream",
     "text": [
      "2023-10-02 21:03:44.824981: I tensorflow/core/platform/cpu_feature_guard.cc:193] This TensorFlow binary is optimized with oneAPI Deep Neural Network Library (oneDNN) to use the following CPU instructions in performance-critical operations:  AVX2 FMA\n",
      "To enable them in other operations, rebuild TensorFlow with the appropriate compiler flags.\n",
      "2023-10-02 21:03:45.042663: W tensorflow/stream_executor/platform/default/dso_loader.cc:64] Could not load dynamic library 'libcudart.so.11.0'; dlerror: libcudart.so.11.0: cannot open shared object file: No such file or directory\n",
      "2023-10-02 21:03:45.042710: I tensorflow/stream_executor/cuda/cudart_stub.cc:29] Ignore above cudart dlerror if you do not have a GPU set up on your machine.\n",
      "2023-10-02 21:03:45.088926: E tensorflow/stream_executor/cuda/cuda_blas.cc:2981] Unable to register cuBLAS factory: Attempting to register factory for plugin cuBLAS when one has already been registered\n",
      "2023-10-02 21:03:46.154604: W tensorflow/stream_executor/platform/default/dso_loader.cc:64] Could not load dynamic library 'libnvinfer.so.7'; dlerror: libnvinfer.so.7: cannot open shared object file: No such file or directory\n",
      "2023-10-02 21:03:46.154713: W tensorflow/stream_executor/platform/default/dso_loader.cc:64] Could not load dynamic library 'libnvinfer_plugin.so.7'; dlerror: libnvinfer_plugin.so.7: cannot open shared object file: No such file or directory\n",
      "2023-10-02 21:03:46.154724: W tensorflow/compiler/tf2tensorrt/utils/py_utils.cc:38] TF-TRT Warning: Cannot dlopen some TensorRT libraries. If you would like to use Nvidia GPU with TensorRT, please make sure the missing libraries mentioned above are installed properly.\n"
     ]
    },
    {
     "name": "stdout",
     "output_type": "stream",
     "text": [
      "X.shape:  (180, 64, 656)\n",
      "Y.shape:  (180,)\n"
     ]
    }
   ],
   "source": [
    "import numpy as np\n",
    "import os\n",
    "import pyedflib\n",
    "from utils.EEGModels import EEGNet\n",
    "from tensorflow.keras import utils as np_utils\n",
    "from tensorflow.keras.callbacks import ModelCheckpoint\n",
    "from tensorflow.keras import backend as K\n",
    "\n",
    "import read_edf_files\n",
    "kernels, chans = 1, 64\n",
    "label_mapping = {\n",
    "        1: \"Rest\",\n",
    "        2: \"Squeeze Both Fists\",\n",
    "        3: \"Squeeze Both Feet\",\n",
    "        4: \"Squeeze Left Hand\",\n",
    "        5: \"Squeeze Right Hand\",\n",
    "    }\n",
    "num_labels = 5\n",
    "X, Y = read_edf_files.reader() # use other function to read the edf files\n"
   ]
  },
  {
   "cell_type": "code",
   "execution_count": 2,
   "metadata": {},
   "outputs": [
    {
     "name": "stdout",
     "output_type": "stream",
     "text": [
      "x_train shape:  (90, 64, 656, 1) \n",
      "y_train shape:  (90, 5)\n"
     ]
    },
    {
     "name": "stderr",
     "output_type": "stream",
     "text": [
      "2023-10-02 21:03:48.671693: W tensorflow/stream_executor/platform/default/dso_loader.cc:64] Could not load dynamic library 'libcuda.so.1'; dlerror: libcuda.so.1: cannot open shared object file: No such file or directory\n",
      "2023-10-02 21:03:48.672039: W tensorflow/stream_executor/cuda/cuda_driver.cc:263] failed call to cuInit: UNKNOWN ERROR (303)\n",
      "2023-10-02 21:03:48.672065: I tensorflow/stream_executor/cuda/cuda_diagnostics.cc:156] kernel driver does not appear to be running on this host (kaleb-School): /proc/driver/nvidia/version does not exist\n",
      "2023-10-02 21:03:48.672476: I tensorflow/core/platform/cpu_feature_guard.cc:193] This TensorFlow binary is optimized with oneAPI Deep Neural Network Library (oneDNN) to use the following CPU instructions in performance-critical operations:  AVX2 FMA\n",
      "To enable them in other operations, rebuild TensorFlow with the appropriate compiler flags.\n"
     ]
    },
    {
     "name": "stdout",
     "output_type": "stream",
     "text": [
      "test print statement\n",
      "\n",
      "\n",
      "\n",
      "\n",
      "\n",
      "\n"
     ]
    }
   ],
   "source": [
    "################################################################\n",
    "## Process, filter, and epoch the data\n",
    "# init arrays to train/validate/test. Make split 50/25/25\n",
    "half = int(len(X) / 2)\n",
    "quarter = int(half / 2)\n",
    "three_fourths = half + quarter\n",
    "\n",
    "X_train = X[:half, :, :]\n",
    "X_validate = X[half : three_fourths, :, :]\n",
    "X_test = X[three_fourths:, :, :]\n",
    "\n",
    "y_train_int = Y[:half]\n",
    "y_validate_int = Y[half:three_fourths]\n",
    "y_test_int = Y[three_fourths:]\n",
    "\n",
    "# convert labels to one-hot encoding\n",
    "y_train = np_utils.to_categorical(y_train_int-1)\n",
    "y_validate = np_utils.to_categorical(y_validate_int-1)\n",
    "y_test = np_utils.to_categorical(y_test_int-1)\n",
    "\n",
    "# convert data to NHWC (trials, channels, samples, kernels) format\n",
    "X_train = X_train.reshape(X_train.shape[0], X_train.shape[1], X_train.shape[2], kernels)\n",
    "X_validate = X_validate.reshape(X_validate.shape[0], X_validate.shape[1], X_validate.shape[2], kernels)\n",
    "X_test = X_test.reshape(X_test.shape[0], X_test.shape[1], X_test.shape[2], kernels)\n",
    "\n",
    "print('x_train shape: ', X_train.shape, '\\ny_train shape: ', y_train.shape)\n",
    "################################################################\n",
    "## Call EEGNet\n",
    "\n",
    "model = EEGNet(nb_classes=num_labels, Chans=X_train.shape[1], Samples=X_train.shape[2],\n",
    "               dropoutRate=0.5, kernLength=32, F1=8, D=2, F2=16,\n",
    "                 dropoutType= 'Dropout')\n",
    "\n",
    "# compile the model and set the optimizers\n",
    "model.compile(loss='categorical_crossentropy', optimizer='adam', \n",
    "              metrics = ['accuracy'])\n",
    "\n",
    "# count number of parameters in the model\n",
    "numParams    = model.count_params()    \n",
    "\n",
    "# set a valid path for your system to record model checkpoints\n",
    "checkpointer = ModelCheckpoint(filepath='/tmp/checkpoint.h5', verbose=1,\n",
    "                               save_best_only=True)\n",
    "\n",
    "###############################################################################\n",
    "# if the classification task was imbalanced (significantly more trials in one\n",
    "# class versus the others) you can assign a weight to each class during \n",
    "# optimization to balance it out. This data is approximately balanced so we \n",
    "# don't need to do this, but is shown here for illustration/completeness. \n",
    "###############################################################################\n",
    "\n",
    "# the syntax is {class_1:weight_1, class_2:weight_2,...}. Here just setting\n",
    "# the weights all to be 1\n",
    "class_weights = {0:1, 1:1, 2:1, 3:1, 4:1}\n",
    "\n"
   ]
  },
  {
   "cell_type": "code",
   "execution_count": 3,
   "metadata": {},
   "outputs": [
    {
     "name": "stdout",
     "output_type": "stream",
     "text": [
      "Epoch 1/30\n",
      "\n",
      "Epoch 1: val_loss improved from inf to 1.53574, saving model to /tmp/checkpoint.h5\n",
      "6/6 - 3s - loss: 1.5944 - accuracy: 0.2889 - val_loss: 1.5357 - val_accuracy: 0.5111 - 3s/epoch - 472ms/step\n",
      "Epoch 2/30\n",
      "\n",
      "Epoch 2: val_loss improved from 1.53574 to 1.51338, saving model to /tmp/checkpoint.h5\n",
      "6/6 - 1s - loss: 1.4611 - accuracy: 0.4667 - val_loss: 1.5134 - val_accuracy: 0.4889 - 1s/epoch - 228ms/step\n",
      "Epoch 3/30\n",
      "\n",
      "Epoch 3: val_loss improved from 1.51338 to 1.49117, saving model to /tmp/checkpoint.h5\n",
      "6/6 - 1s - loss: 1.3485 - accuracy: 0.5778 - val_loss: 1.4912 - val_accuracy: 0.5111 - 1s/epoch - 224ms/step\n",
      "Epoch 4/30\n",
      "\n",
      "Epoch 4: val_loss improved from 1.49117 to 1.45812, saving model to /tmp/checkpoint.h5\n",
      "6/6 - 1s - loss: 1.2526 - accuracy: 0.6111 - val_loss: 1.4581 - val_accuracy: 0.5333 - 1s/epoch - 233ms/step\n",
      "Epoch 5/30\n",
      "\n",
      "Epoch 5: val_loss improved from 1.45812 to 1.42956, saving model to /tmp/checkpoint.h5\n",
      "6/6 - 1s - loss: 1.2147 - accuracy: 0.5778 - val_loss: 1.4296 - val_accuracy: 0.5333 - 1s/epoch - 229ms/step\n",
      "Epoch 6/30\n",
      "\n",
      "Epoch 6: val_loss improved from 1.42956 to 1.39813, saving model to /tmp/checkpoint.h5\n",
      "6/6 - 1s - loss: 1.1558 - accuracy: 0.5556 - val_loss: 1.3981 - val_accuracy: 0.5333 - 1s/epoch - 231ms/step\n",
      "Epoch 7/30\n",
      "\n",
      "Epoch 7: val_loss improved from 1.39813 to 1.37504, saving model to /tmp/checkpoint.h5\n",
      "6/6 - 1s - loss: 1.1349 - accuracy: 0.6000 - val_loss: 1.3750 - val_accuracy: 0.5333 - 1s/epoch - 235ms/step\n",
      "Epoch 8/30\n",
      "\n",
      "Epoch 8: val_loss improved from 1.37504 to 1.37341, saving model to /tmp/checkpoint.h5\n",
      "6/6 - 1s - loss: 1.0557 - accuracy: 0.6333 - val_loss: 1.3734 - val_accuracy: 0.4889 - 1s/epoch - 227ms/step\n",
      "Epoch 9/30\n",
      "\n",
      "Epoch 9: val_loss improved from 1.37341 to 1.35464, saving model to /tmp/checkpoint.h5\n",
      "6/6 - 1s - loss: 1.0249 - accuracy: 0.6556 - val_loss: 1.3546 - val_accuracy: 0.4889 - 1s/epoch - 228ms/step\n",
      "Epoch 10/30\n",
      "\n",
      "Epoch 10: val_loss improved from 1.35464 to 1.33978, saving model to /tmp/checkpoint.h5\n",
      "6/6 - 2s - loss: 0.9601 - accuracy: 0.7444 - val_loss: 1.3398 - val_accuracy: 0.4667 - 2s/epoch - 252ms/step\n",
      "Epoch 11/30\n",
      "\n",
      "Epoch 11: val_loss improved from 1.33978 to 1.32197, saving model to /tmp/checkpoint.h5\n",
      "6/6 - 1s - loss: 0.9383 - accuracy: 0.7222 - val_loss: 1.3220 - val_accuracy: 0.5111 - 1s/epoch - 240ms/step\n",
      "Epoch 12/30\n",
      "\n",
      "Epoch 12: val_loss did not improve from 1.32197\n",
      "6/6 - 1s - loss: 0.9074 - accuracy: 0.7444 - val_loss: 1.3228 - val_accuracy: 0.5111 - 1s/epoch - 216ms/step\n",
      "Epoch 13/30\n",
      "\n",
      "Epoch 13: val_loss improved from 1.32197 to 1.32086, saving model to /tmp/checkpoint.h5\n",
      "6/6 - 1s - loss: 0.8586 - accuracy: 0.7333 - val_loss: 1.3209 - val_accuracy: 0.4889 - 1s/epoch - 228ms/step\n",
      "Epoch 14/30\n",
      "\n",
      "Epoch 14: val_loss improved from 1.32086 to 1.30618, saving model to /tmp/checkpoint.h5\n",
      "6/6 - 1s - loss: 0.8638 - accuracy: 0.7889 - val_loss: 1.3062 - val_accuracy: 0.5111 - 1s/epoch - 232ms/step\n",
      "Epoch 15/30\n",
      "\n",
      "Epoch 15: val_loss improved from 1.30618 to 1.29518, saving model to /tmp/checkpoint.h5\n",
      "6/6 - 1s - loss: 0.8144 - accuracy: 0.8111 - val_loss: 1.2952 - val_accuracy: 0.5111 - 1s/epoch - 225ms/step\n",
      "Epoch 16/30\n",
      "\n",
      "Epoch 16: val_loss did not improve from 1.29518\n",
      "6/6 - 1s - loss: 0.8136 - accuracy: 0.7667 - val_loss: 1.3030 - val_accuracy: 0.5333 - 1s/epoch - 216ms/step\n",
      "Epoch 17/30\n",
      "\n",
      "Epoch 17: val_loss did not improve from 1.29518\n",
      "6/6 - 1s - loss: 0.7879 - accuracy: 0.8222 - val_loss: 1.3091 - val_accuracy: 0.5556 - 1s/epoch - 221ms/step\n",
      "Epoch 18/30\n",
      "\n",
      "Epoch 18: val_loss improved from 1.29518 to 1.28248, saving model to /tmp/checkpoint.h5\n",
      "6/6 - 1s - loss: 0.7294 - accuracy: 0.8222 - val_loss: 1.2825 - val_accuracy: 0.5778 - 1s/epoch - 222ms/step\n",
      "Epoch 19/30\n",
      "\n",
      "Epoch 19: val_loss improved from 1.28248 to 1.25739, saving model to /tmp/checkpoint.h5\n",
      "6/6 - 1s - loss: 0.7431 - accuracy: 0.8111 - val_loss: 1.2574 - val_accuracy: 0.5778 - 1s/epoch - 216ms/step\n",
      "Epoch 20/30\n",
      "\n",
      "Epoch 20: val_loss improved from 1.25739 to 1.25722, saving model to /tmp/checkpoint.h5\n",
      "6/6 - 1s - loss: 0.7392 - accuracy: 0.8333 - val_loss: 1.2572 - val_accuracy: 0.5556 - 1s/epoch - 219ms/step\n",
      "Epoch 21/30\n",
      "\n",
      "Epoch 21: val_loss did not improve from 1.25722\n",
      "6/6 - 1s - loss: 0.7362 - accuracy: 0.8444 - val_loss: 1.2688 - val_accuracy: 0.5778 - 1s/epoch - 218ms/step\n",
      "Epoch 22/30\n",
      "\n",
      "Epoch 22: val_loss did not improve from 1.25722\n",
      "6/6 - 1s - loss: 0.6935 - accuracy: 0.8333 - val_loss: 1.2748 - val_accuracy: 0.5778 - 1s/epoch - 201ms/step\n",
      "Epoch 23/30\n",
      "\n",
      "Epoch 23: val_loss did not improve from 1.25722\n",
      "6/6 - 1s - loss: 0.6879 - accuracy: 0.8889 - val_loss: 1.2598 - val_accuracy: 0.5778 - 1s/epoch - 207ms/step\n",
      "Epoch 24/30\n",
      "\n",
      "Epoch 24: val_loss did not improve from 1.25722\n",
      "6/6 - 1s - loss: 0.6642 - accuracy: 0.8556 - val_loss: 1.2619 - val_accuracy: 0.5778 - 1s/epoch - 210ms/step\n",
      "Epoch 25/30\n",
      "\n",
      "Epoch 25: val_loss improved from 1.25722 to 1.25072, saving model to /tmp/checkpoint.h5\n",
      "6/6 - 1s - loss: 0.6602 - accuracy: 0.8889 - val_loss: 1.2507 - val_accuracy: 0.6222 - 1s/epoch - 210ms/step\n",
      "Epoch 26/30\n",
      "\n",
      "Epoch 26: val_loss did not improve from 1.25072\n",
      "6/6 - 1s - loss: 0.6657 - accuracy: 0.8889 - val_loss: 1.2629 - val_accuracy: 0.6222 - 1s/epoch - 211ms/step\n",
      "Epoch 27/30\n",
      "\n",
      "Epoch 27: val_loss improved from 1.25072 to 1.22523, saving model to /tmp/checkpoint.h5\n",
      "6/6 - 1s - loss: 0.6220 - accuracy: 0.8889 - val_loss: 1.2252 - val_accuracy: 0.6000 - 1s/epoch - 215ms/step\n",
      "Epoch 28/30\n",
      "\n",
      "Epoch 28: val_loss did not improve from 1.22523\n",
      "6/6 - 1s - loss: 0.6064 - accuracy: 0.9333 - val_loss: 1.2307 - val_accuracy: 0.6000 - 1s/epoch - 212ms/step\n",
      "Epoch 29/30\n",
      "\n",
      "Epoch 29: val_loss did not improve from 1.22523\n",
      "6/6 - 1s - loss: 0.5931 - accuracy: 0.9111 - val_loss: 1.2287 - val_accuracy: 0.6000 - 1s/epoch - 200ms/step\n",
      "Epoch 30/30\n",
      "\n",
      "Epoch 30: val_loss improved from 1.22523 to 1.20101, saving model to /tmp/checkpoint.h5\n",
      "6/6 - 1s - loss: 0.6050 - accuracy: 0.8556 - val_loss: 1.2010 - val_accuracy: 0.6000 - 1s/epoch - 205ms/step\n",
      "2/2 [==============================] - 0s 19ms/step\n",
      "Classification accuracy: 0.577778 \n"
     ]
    }
   ],
   "source": [
    "################################################################################\n",
    "# fit the model. Due to very small sample sizes this can get\n",
    "# pretty noisy run-to-run, but most runs should be comparable to xDAWN + \n",
    "# Riemannian geometry classification (below)\n",
    "################################################################################\n",
    "# fittedModel = model.fit(X_train, y_train, batch_size = 16, epochs = 30, \n",
    "#                         verbose = 2, validation_data=(X_validate, y_validate),\n",
    "#                        callbacks=[checkpointer], class_weight = class_weights)\n",
    "\n",
    "model.fit(X_train, y_train, batch_size = 16, epochs = 30, \n",
    "          verbose = 2, validation_data=(X_validate, y_validate),\n",
    "          callbacks=[checkpointer], class_weight = class_weights)\n",
    "\n",
    "# load optimal weights\n",
    "model.load_weights('/tmp/checkpoint.h5')\n",
    "\n",
    "###############################################################################\n",
    "# can alternatively used the weights provided in the repo. If so it should get\n",
    "# you 93% accuracy. Change the WEIGHTS_PATH variable to wherever it is on your\n",
    "# system.\n",
    "###############################################################################\n",
    "\n",
    "# WEIGHTS_PATH = /path/to/EEGNet-8-2-weights.h5 \n",
    "# model.load_weights(WEIGHTS_PATH)\n",
    "\n",
    "###############################################################################\n",
    "# make prediction on test set.\n",
    "###############################################################################\n",
    "\n",
    "probs       = model.predict(X_test)\n",
    "preds       = probs.argmax(axis = -1)  \n",
    "acc         = np.mean(preds == y_test.argmax(axis=-1))\n",
    "print(\"Classification accuracy: %f \" % (acc))"
   ]
  },
  {
   "cell_type": "code",
   "execution_count": 5,
   "metadata": {},
   "outputs": [
    {
     "name": "stdout",
     "output_type": "stream",
     "text": [
      "2/2 [==============================] - 0s 35ms/step\n",
      "layer name:  <keras.layers.convolutional.conv2d.Conv2D object at 0x7ff4729b6c20>\n"
     ]
    },
    {
     "data": {
      "image/png": "[encoded data removed]",
      "text/plain": [
       "<Figure size 2000x200 with 8 Axes>"
      ]
     },
     "metadata": {},
     "output_type": "display_data"
    },
    {
     "name": "stdout",
     "output_type": "stream",
     "text": [
      "layer name:  <keras.layers.convolutional.depthwise_conv2d.DepthwiseConv2D object at 0x7ff4729b7070>\n"
     ]
    },
    {
     "data": {
      "image/png": "[encoded data removed]",
      "text/plain": [
       "<Figure size 2000x200 with 16 Axes>"
      ]
     },
     "metadata": {},
     "output_type": "display_data"
    },
    {
     "name": "stdout",
     "output_type": "stream",
     "text": [
      "layer name:  <keras.layers.convolutional.separable_conv2d.SeparableConv2D object at 0x7ff46e739f60>\n"
     ]
    },
    {
     "data": {
      "image/png": "[encoded data removed]",
      "text/plain": [
       "<Figure size 2000x200 with 16 Axes>"
      ]
     },
     "metadata": {},
     "output_type": "display_data"
    }
   ],
   "source": [
    "# channel importance via activation visualization\n",
    "import matplotlib.pyplot as plt\n",
    "from keras.models import Model\n",
    "\n",
    "# Assume 'model' is your trained CNN model\n",
    "layer_outputs = [layer.output for layer in model.layers] \n",
    "activation_model = Model(inputs=model.input, outputs=layer_outputs)\n",
    "activations = activation_model.predict(X_test)  # X_test should have shape (num_trials, num_electrodes, num_samples)\n",
    "\n",
    "# Choose a sample trial for visualization\n",
    "sample_trial_index = 0\n",
    "for layer_name, layer_activation in zip(model.layers, activations):\n",
    "    if 'conv' in layer_name.name.lower():  # Visualize activations of convolutional layers\n",
    "        fig, axarr = plt.subplots(1, len(layer_activation[0, 0, 0, :]), figsize=(20, 2))\n",
    "        print(\"layer name: \", layer_name)\n",
    "        for i in range(len(layer_activation[0, 0, 0, :])):\n",
    "            axarr[i].imshow(layer_activation[sample_trial_index, :, :, i], cmap='viridis')\n",
    "            axarr[i].axis('off')\n",
    "        plt.show()\n"
   ]
  },
  {
   "cell_type": "code",
   "execution_count": null,
   "metadata": {},
   "outputs": [],
   "source": [
    "# saliency map\n",
    "from keras import backend as K \n",
    "import tensorflow as tf \n",
    "\n",
    "# gradient of pred class with respect to input\n",
    "input_img = tf.convert_to_tensor(X[0].reshape(None, 64, 656, 1)) \n",
    "print(input_img.shape)\n",
    "\n",
    "class_output = model.output\n",
    "class_index = 1 \n",
    "\n",
    "with tf.GradientTape() as tape: \n",
    "    tape.watch(input_img)\n",
    "    predictions = model(input_img)\n",
    "    loss = predictions[:, class_index]\n",
    "\n",
    "grads = tape.gradient(loss, input_img)\n",
    "# grads = K.gradients(class_output, input_img)[0]\n",
    "\n",
    "# function to compute saliency\n",
    "iterate = K.function([input_img], [grads])\n",
    "saliency = iterate([X_test[0]])"
   ]
  }
 ],
 "metadata": {
  "kernelspec": {
   "display_name": "eegnet",
   "language": "python",
   "name": "python3"
  },
  "language_info": {
   "codemirror_mode": {
    "name": "ipython",
    "version": 3
   },
   "file_extension": ".py",
   "mimetype": "text/x-python",
   "name": "python",
   "nbconvert_exporter": "python",
   "pygments_lexer": "ipython3",
   "version": "3.10.13"
  },
  "orig_nbformat": 4
 },
 "nbformat": 4,
 "nbformat_minor": 2
}
